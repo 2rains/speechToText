{
 "cells": [
  {
   "cell_type": "code",
   "execution_count": 1,
   "id": "aab144b1",
   "metadata": {},
   "outputs": [
    {
     "name": "stdout",
     "output_type": "stream",
     "text": [
      "Requirement already satisfied: SpeechRecognition in c:\\users\\user\\anaconda\\lib\\site-packages (3.8.1)\n",
      "Note: you may need to restart the kernel to use updated packages.\n"
     ]
    }
   ],
   "source": [
    "pip install SpeechRecognition"
   ]
  },
  {
   "cell_type": "code",
   "execution_count": 2,
   "id": "f1f8ab34",
   "metadata": {},
   "outputs": [
    {
     "data": {
      "text/plain": [
       "'3.8.1'"
      ]
     },
     "execution_count": 2,
     "metadata": {},
     "output_type": "execute_result"
    }
   ],
   "source": [
    "import speech_recognition as sr\n",
    "sr.__version__\n",
    "'3.8.1'"
   ]
  },
  {
   "cell_type": "code",
   "execution_count": 3,
   "id": "4c58df16",
   "metadata": {},
   "outputs": [],
   "source": [
    "r = sr.Recognizer()  # 음성인식 recognizer 인스턴스 생성"
   ]
  },
  {
   "cell_type": "code",
   "execution_count": 4,
   "id": "d613d17f",
   "metadata": {},
   "outputs": [],
   "source": [
    "harvard = sr.AudioFile('harvard.wav')\n",
    "with harvard as source:\n",
    "    audio = r.record(source)"
   ]
  },
  {
   "cell_type": "code",
   "execution_count": 5,
   "id": "3f6c02cf",
   "metadata": {},
   "outputs": [
    {
     "data": {
      "text/plain": [
       "speech_recognition.AudioData"
      ]
     },
     "execution_count": 5,
     "metadata": {},
     "output_type": "execute_result"
    }
   ],
   "source": [
    "type(audio)  # audio data로 타입 변경시킴"
   ]
  },
  {
   "cell_type": "code",
   "execution_count": 6,
   "id": "f2b06336",
   "metadata": {},
   "outputs": [
    {
     "data": {
      "text/plain": [
       "'the stale smell of old beer lingers it takes heat to bring out the odor a cold dip restores health and zest a salt pickle taste fine with ham tacos al Pastore are my favorite acceptable food is be hot cross bun'"
      ]
     },
     "execution_count": 6,
     "metadata": {},
     "output_type": "execute_result"
    }
   ],
   "source": [
    "r.recognize_google(audio)  # 음성 인식하여 text로 return\n",
    "\n"
   ]
  },
  {
   "cell_type": "code",
   "execution_count": 7,
   "id": "26be1ec8",
   "metadata": {},
   "outputs": [],
   "source": [
    "with harvard as source:\n",
    "    audio1 = r.record(source, duration=4)\n",
    "    audio2 = r.record(source, duration=4)\n",
    "    audio3 = r.record(source, offset=4, duration=3)  # offset, 오디오 시작위치 지정"
   ]
  },
  {
   "cell_type": "code",
   "execution_count": 8,
   "id": "7f52d840",
   "metadata": {},
   "outputs": [
    {
     "data": {
      "text/plain": [
       "'the stale smell of old beer lingers'"
      ]
     },
     "execution_count": 8,
     "metadata": {},
     "output_type": "execute_result"
    }
   ],
   "source": [
    "r.recognize_google(audio1)  # 0-4초간의 데이터"
   ]
  },
  {
   "cell_type": "code",
   "execution_count": 9,
   "id": "0cd888b5",
   "metadata": {},
   "outputs": [
    {
     "data": {
      "text/plain": [
       "'it takes heat to bring out the odor a cold dip'"
      ]
     },
     "execution_count": 9,
     "metadata": {},
     "output_type": "execute_result"
    }
   ],
   "source": [
    "r.recognize_google(audio2)  # 4-8초간의 데이터"
   ]
  },
  {
   "cell_type": "code",
   "execution_count": 10,
   "id": "92c9f558",
   "metadata": {},
   "outputs": [
    {
     "data": {
      "text/plain": [
       "'tacos al pastor are my favorite'"
      ]
     },
     "execution_count": 10,
     "metadata": {},
     "output_type": "execute_result"
    }
   ],
   "source": [
    "r.recognize_google(audio3)"
   ]
  },
  {
   "cell_type": "code",
   "execution_count": null,
   "id": "7dc513ba",
   "metadata": {},
   "outputs": [],
   "source": []
  },
  {
   "cell_type": "code",
   "execution_count": null,
   "id": "51664396",
   "metadata": {},
   "outputs": [],
   "source": []
  }
 ],
 "metadata": {
  "kernelspec": {
   "display_name": "Python 3 (ipykernel)",
   "language": "python",
   "name": "python3"
  },
  "language_info": {
   "codemirror_mode": {
    "name": "ipython",
    "version": 3
   },
   "file_extension": ".py",
   "mimetype": "text/x-python",
   "name": "python",
   "nbconvert_exporter": "python",
   "pygments_lexer": "ipython3",
   "version": "3.9.13"
  }
 },
 "nbformat": 4,
 "nbformat_minor": 5
}
