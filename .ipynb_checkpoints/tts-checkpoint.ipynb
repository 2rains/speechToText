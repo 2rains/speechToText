{
 "cells": [
  {
   "cell_type": "code",
   "execution_count": 1,
   "id": "1ece96b4",
   "metadata": {},
   "outputs": [
    {
     "name": "stdout",
     "output_type": "stream",
     "text": [
      "Requirement already satisfied: speechrecognition in c:\\users\\user\\anaconda\\lib\\site-packages (3.8.1)\n",
      "Note: you may need to restart the kernel to use updated packages.\n"
     ]
    }
   ],
   "source": [
    "pip install speechrecognition"
   ]
  },
  {
   "cell_type": "code",
   "execution_count": 2,
   "id": "f0ba5c28",
   "metadata": {},
   "outputs": [
    {
     "name": "stdout",
     "output_type": "stream",
     "text": [
      "Requirement already satisfied: gtts in c:\\users\\user\\anaconda\\lib\\site-packages (2.2.4)Note: you may need to restart the kernel to use updated packages.\n",
      "\n",
      "Requirement already satisfied: six in c:\\users\\user\\anaconda\\lib\\site-packages (from gtts) (1.16.0)\n",
      "Requirement already satisfied: requests in c:\\users\\user\\anaconda\\lib\\site-packages (from gtts) (2.28.1)\n",
      "Requirement already satisfied: click in c:\\users\\user\\anaconda\\lib\\site-packages (from gtts) (8.0.4)\n",
      "Requirement already satisfied: colorama in c:\\users\\user\\anaconda\\lib\\site-packages (from click->gtts) (0.4.5)\n",
      "Requirement already satisfied: urllib3<1.27,>=1.21.1 in c:\\users\\user\\anaconda\\lib\\site-packages (from requests->gtts) (1.26.11)\n",
      "Requirement already satisfied: certifi>=2017.4.17 in c:\\users\\user\\anaconda\\lib\\site-packages (from requests->gtts) (2022.9.14)\n",
      "Requirement already satisfied: charset-normalizer<3,>=2 in c:\\users\\user\\anaconda\\lib\\site-packages (from requests->gtts) (2.0.4)\n",
      "Requirement already satisfied: idna<4,>=2.5 in c:\\users\\user\\anaconda\\lib\\site-packages (from requests->gtts) (3.3)\n"
     ]
    }
   ],
   "source": [
    "pip install gtts"
   ]
  },
  {
   "cell_type": "code",
   "execution_count": 3,
   "id": "8dab8c5b",
   "metadata": {},
   "outputs": [
    {
     "name": "stdout",
     "output_type": "stream",
     "text": [
      "Requirement already satisfied: playsound in c:\\users\\user\\anaconda\\lib\\site-packages (1.3.0)\n",
      "Note: you may need to restart the kernel to use updated packages.\n"
     ]
    }
   ],
   "source": [
    "pip install playsound"
   ]
  },
  {
   "cell_type": "code",
   "execution_count": 13,
   "id": "0d96e40b",
   "metadata": {},
   "outputs": [],
   "source": [
    "import speech_recognition as sr  # 음성 인식 라이브러리\n",
    "from gtts import gTTS  # text를 speech형식으로 출력\n",
    "import os  # 기본라이브러리 추가 작업 가미할 때 필요\n",
    "import time  # 기본라이브러리 추가 작업 가미할 때 필요\n",
    "import playsound  "
   ]
  },
  {
   "cell_type": "code",
   "execution_count": 15,
   "id": "9391c6f9",
   "metadata": {},
   "outputs": [],
   "source": [
    "def reply(text, a):\n",
    "    tts = gTTS(text=text, lang='en')\n",
    "    filename = 'C:\\\\' + text + str(a) +'.mp3' # 음성 파일 저장 경로 및 파일명 지정\n",
    "    # if os.path.isfile(filename):\n",
    "    # os. remove(file)\n",
    "    tts.save(filename)\n",
    "    playsound.playsound(filename)"
   ]
  },
  {
   "cell_type": "code",
   "execution_count": 27,
   "id": "bfa8c67a",
   "metadata": {},
   "outputs": [
    {
     "ename": "IndentationError",
     "evalue": "unexpected unindent (1942190929.py, line 14)",
     "output_type": "error",
     "traceback": [
      "\u001b[1;36m  File \u001b[1;32m\"C:\\Users\\user\\AppData\\Local\\Temp\\ipykernel_13524\\1942190929.py\"\u001b[1;36m, line \u001b[1;32m14\u001b[0m\n\u001b[1;33m    return said\u001b[0m\n\u001b[1;37m               ^\u001b[0m\n\u001b[1;31mIndentationError\u001b[0m\u001b[1;31m:\u001b[0m unexpected unindent\n"
     ]
    }
   ],
   "source": [
    "def Voice_Recognition():  # 음성인식 함수 선언\n",
    "    r = sr.Recognizer()\n",
    "    with sr.Microphone() as source:\n",
    "        audio = r.listen(source)\n",
    "        said=\" \"\n",
    "        \n",
    "        try:\n",
    "            said = r.recognize_google(audio)\n",
    "            print(said)\n",
    "            \n",
    "#             excpet Exception as e:\n",
    "#                 print(\"Exception: \" + st(e))\n",
    "                \n",
    "return said\n",
    "\n"
   ]
  },
  {
   "cell_type": "code",
   "execution_count": null,
   "id": "e4e0d472",
   "metadata": {},
   "outputs": [],
   "source": [
    "i = 0\n",
    "list01 = []\n",
    "\n",
    "while True:\n",
    "    \n",
    "    text = Voice_Recognition()\n",
    "    if \"hi\" in text:    # 첫 번째 음성 인식에 따른, AI 로봇 답변 입력\n",
    "        answer01 = \"hellomylovelyimgoodtoseeyou\"\n",
    "        reply(answer01, i)\n",
    "        i = i+1\n",
    "        \n",
    "    elif \"how are youm can you tell me you name\" in text:  #두 번째 음성 인식에 따른, AI 로봇 답변 입력\n",
    "       answer01 = \"MynameisSEULBI\"\n",
    "        reply(\"MynameisSEULBI\", i)\n",
    "        i = i + 1\n",
    "        \n",
    "    elif \"bye\" in text:  # 코드를 끝내는 음성 선언\n",
    "        break\n",
    "        \n",
    "    # 음성파일 이름을 리스트화 함\n",
    "    list01.appen(answer01 + str(i-1) + '.mp3')\n",
    "\n",
    "for item in list01:   # 코드가 끝나면 음성파일 삭제하는 코드\n",
    "    print(item)\n",
    "    os.remove('C:/' + item)"
   ]
  },
  {
   "cell_type": "code",
   "execution_count": null,
   "id": "ed69f4d0",
   "metadata": {},
   "outputs": [],
   "source": []
  },
  {
   "cell_type": "code",
   "execution_count": null,
   "id": "9675648a",
   "metadata": {},
   "outputs": [],
   "source": []
  },
  {
   "cell_type": "code",
   "execution_count": null,
   "id": "cc091f93",
   "metadata": {},
   "outputs": [],
   "source": []
  }
 ],
 "metadata": {
  "kernelspec": {
   "display_name": "Python 3 (ipykernel)",
   "language": "python",
   "name": "python3"
  },
  "language_info": {
   "codemirror_mode": {
    "name": "ipython",
    "version": 3
   },
   "file_extension": ".py",
   "mimetype": "text/x-python",
   "name": "python",
   "nbconvert_exporter": "python",
   "pygments_lexer": "ipython3",
   "version": "3.9.13"
  }
 },
 "nbformat": 4,
 "nbformat_minor": 5
}
