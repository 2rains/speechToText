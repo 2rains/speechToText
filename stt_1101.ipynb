{
 "cells": [
  {
   "cell_type": "code",
   "execution_count": 24,
   "metadata": {},
   "outputs": [
    {
     "name": "stdout",
     "output_type": "stream",
     "text": [
      "C:/Users/user/speechToText_1101/hello.wav\n"
     ]
    },
    {
     "name": "stderr",
     "output_type": "stream",
     "text": [
      "Exception in Tkinter callback\n",
      "Traceback (most recent call last):\n",
      "  File \"c:\\Users\\user\\anaconda\\lib\\tkinter\\__init__.py\", line 1892, in __call__\n",
      "    return self.func(*args)\n",
      "  File \"C:\\Users\\user\\AppData\\Local\\Temp\\ipykernel_10596\\793468003.py\", line 19, in open\n",
      "    Label(root, text=root.filename).pack() # 파일경로 view\n",
      "  File \"c:\\Users\\user\\anaconda\\lib\\tkinter\\__init__.py\", line 2354, in __getattr__\n",
      "    return getattr(self.tk, attr)\n",
      "AttributeError: '_tkinter.tkapp' object has no attribute 'filename'\n"
     ]
    },
    {
     "data": {
      "text/plain": [
       "'3.8.1'"
      ]
     },
     "execution_count": 24,
     "metadata": {},
     "output_type": "execute_result"
    }
   ],
   "source": [
    "from email.mime import audio\n",
    "from tkinter import *\n",
    "# from PIL import ImageTk, Image\n",
    "from tkinter import filedialog\n",
    "\n",
    "from click import command\n",
    "from debugpy import configure\n",
    " \n",
    "root = Tk()\n",
    "root.title('SpeechToText')  # 윈도우 창 제목\n",
    "root.geometry(\"540x380\") # 가로 * 세로\n",
    "root.resizable(False,False)  # 창 크기 조절 허용x\n",
    " \n",
    "def open():\n",
    "    global file # 함수에서 파일 기억하도록 전역변수 선언\n",
    "    file = filedialog.askopenfilename()\n",
    "    print(file) \n",
    "    label1.config(text=\"파일 경로 : \" +  file)\n",
    "    Label(root, text=root.filename).pack() # 파일경로 view\n",
    "\n",
    " \n",
    "def label():\n",
    "    r = sr.Recognizer()  # 음성인식 recognizer 인스턴스 생성\n",
    "\n",
    "    harvard = sr.AudioFile(file)\n",
    "    with harvard as source:\n",
    "        audio = r.record(source)\n",
    "\n",
    "    type(audio)  # audio data로 타입 변경시킴\n",
    "\n",
    "    r.recognize_google(audio)  # 음성 인식하여 text로 return\n",
    "\n",
    "    with harvard as source:\n",
    "        audio1 = r.record(source, duration=4)\n",
    "        audio2 = r.record(source, duration=4)\n",
    "        audio3 = r.record(source, offset=4, duration=3)  # offset, 오디오 시작위치 지정\n",
    "\n",
    "    a = r.recognize_google(audio, language='ko')\n",
    "\n",
    "    label2.config(text=\"음성 인식 결과 : \" + a)\n",
    "    \n",
    "\n",
    "my_btn = Button(root, text='파일열기', command=open).pack()\n",
    " \n",
    "label1 = Label(root, text = \" \")\n",
    "label1.pack()\n",
    "\n",
    "\n",
    "btn = Button(root, text = \"speech to text\", command=label)\n",
    "btn.pack()\n",
    "\n",
    "label2 = Label(root)\n",
    "label2.pack()\n",
    "\n",
    "root.mainloop()  # 루트에 메인 루프 선언(윈도우창이 종료 버튼 누르기 전까지 종료되지 않음)\n",
    "\n",
    "\n",
    "\n",
    "\n",
    "\n",
    "\n",
    "import speech_recognition as sr\n",
    "sr.__version__\n",
    "'3.8.1'\n",
    "\n",
    "\n"
   ]
  }
 ],
 "metadata": {
  "kernelspec": {
   "display_name": "Python 3.9.13 ('base')",
   "language": "python",
   "name": "python3"
  },
  "language_info": {
   "codemirror_mode": {
    "name": "ipython",
    "version": 3
   },
   "file_extension": ".py",
   "mimetype": "text/x-python",
   "name": "python",
   "nbconvert_exporter": "python",
   "pygments_lexer": "ipython3",
   "version": "3.9.13"
  },
  "orig_nbformat": 4,
  "vscode": {
   "interpreter": {
    "hash": "39a34cc34fa105d8ec3534aa54504572aead214367e412b05dc49f32cf35b4ec"
   }
  }
 },
 "nbformat": 4,
 "nbformat_minor": 2
}
